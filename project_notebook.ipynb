{
 "cells": [
  {
   "cell_type": "code",
   "execution_count": 1,
   "id": "b39ecef1-f9cf-4d5e-8a44-f889775ae5f2",
   "metadata": {},
   "outputs": [],
   "source": [
    "string = \"stuff more stuff and some things\""
   ]
  },
  {
   "cell_type": "code",
   "execution_count": 2,
   "id": "f80fb185-bc67-4e55-97f1-e9da4e6498c7",
   "metadata": {},
   "outputs": [
    {
     "data": {
      "text/plain": [
       "'stuff more stuff and some things'"
      ]
     },
     "execution_count": 2,
     "metadata": {},
     "output_type": "execute_result"
    }
   ],
   "source": [
    "string"
   ]
  },
  {
   "cell_type": "code",
   "execution_count": 3,
   "id": "ba3d1687-65fc-4db5-af9d-ee63d3db7416",
   "metadata": {},
   "outputs": [],
   "source": [
    "str_1 = string.split()"
   ]
  },
  {
   "cell_type": "code",
   "execution_count": 4,
   "id": "383de44f-983b-4574-bc41-3d042681ed3c",
   "metadata": {},
   "outputs": [
    {
     "data": {
      "text/plain": [
       "['stuff', 'more', 'stuff', 'and', 'some', 'things']"
      ]
     },
     "execution_count": 4,
     "metadata": {},
     "output_type": "execute_result"
    }
   ],
   "source": [
    "str_1"
   ]
  },
  {
   "cell_type": "code",
   "execution_count": 5,
   "id": "08da9e2d-75b2-4718-8844-ff9db320da0d",
   "metadata": {},
   "outputs": [
    {
     "name": "stdout",
     "output_type": "stream",
     "text": [
      "1 : stuff\n",
      "2 : more\n",
      "3 : stuff\n",
      "4 : and\n",
      "5 : some\n",
      "6 : things\n"
     ]
    }
   ],
   "source": [
    "for i, word in enumerate(str_1):\n",
    "    print(f\"{i + 1} : {word}\")"
   ]
  },
  {
   "cell_type": "code",
   "execution_count": null,
   "id": "8d0f0239-46cc-4e30-87fd-522391b3f2ed",
   "metadata": {},
   "outputs": [],
   "source": []
  }
 ],
 "metadata": {
  "kernelspec": {
   "display_name": "Python 3 (ipykernel)",
   "language": "python",
   "name": "python3"
  },
  "language_info": {
   "codemirror_mode": {
    "name": "ipython",
    "version": 3
   },
   "file_extension": ".py",
   "mimetype": "text/x-python",
   "name": "python",
   "nbconvert_exporter": "python",
   "pygments_lexer": "ipython3",
   "version": "3.11.8"
  }
 },
 "nbformat": 4,
 "nbformat_minor": 5
}
